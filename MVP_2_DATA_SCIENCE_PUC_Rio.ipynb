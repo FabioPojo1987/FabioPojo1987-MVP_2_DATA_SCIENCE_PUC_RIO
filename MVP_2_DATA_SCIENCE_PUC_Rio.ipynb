{
  "nbformat": 4,
  "nbformat_minor": 0,
  "metadata": {
    "colab": {
      "provenance": [],
      "include_colab_link": true
    },
    "kernelspec": {
      "name": "python3",
      "display_name": "Python 3"
    },
    "language_info": {
      "name": "python"
    }
  },
  "cells": [
    {
      "cell_type": "markdown",
      "metadata": {
        "id": "view-in-github",
        "colab_type": "text"
      },
      "source": [
        "<a href=\"https://colab.research.google.com/github/FabioPojo1987/FabioPojo1987-MVP_2_DATA_SCIENCE_PUC_RIO/blob/main/MVP_2_DATA_SCIENCE_PUC_Rio.ipynb\" target=\"_parent\"><img src=\"https://colab.research.google.com/assets/colab-badge.svg\" alt=\"Open In Colab\"/></a>"
      ]
    },
    {
      "cell_type": "markdown",
      "source": [],
      "metadata": {
        "id": "SqrLrqyLHQFY"
      }
    },
    {
      "cell_type": "markdown",
      "source": [
        "# **Projeto de MVP da 2ª Sprint do curso de Ciência de Dados na PUC-Rio (por Fabio Pojo de Almeida).**\n",
        "\n",
        "\n",
        "Este projeto se trata na construção de um modelo de aprendizado de máquina (\"machine learning\") para criar insights sobre como ocorre a variação de dados dos valores das ações do Google no Mercado de Ações.\n",
        "\n",
        "Onde foi utilizado um recorte temporal compreendido entre os anos de 2010 e 2023\n",
        "\n",
        "Este projeto está baseado em um modelo de \"Rede Neural Recorrente\" e está usando de referência os dados presentes nas planilhas csv\n",
        "\n",
        "Para isso, foi decidido um exemplo onde esses dados foram separados em duas bases em 2 arquivos diferentes: 1- base de treino e 2- teste (a faixa da base de teste tem como referência um período de 3 semanas, ou 21 dias)\n",
        "\n",
        "- A base de dados utilizada para os valores das ações do Google (Alphabet.inc.) foi obtida no site Yahoo Finance: https://finance.yahoo.com/quote/GOOG/history/?guccounter=1&guce_referrer=aHR0cHM6Ly93d3cuZ29vZ2xlLmNvbS8&guce_referrer_sig=AQAAAHHEUNSIQe0UmTDWqYQbZ7mz4LE0uvam08jtyQ6_-K3WLS0MWVFvTRHoTQHt4fKdL0dLQV7jOcO7UERQTxQp0oukrXzng6z5MpktzGM9uscHlh5tl_vIgsttiyA-lfF--d3FWaIU-vIpjBkyJSM3W-BRwEt6eJqX5Z7U_ko_9nOv\n",
        "\n",
        "- Encontrando-se disponível através do Kaggle em: https://www.kaggle.com/datasets/alirezajavid1999/google-stock-2010-2023/download?datasetVersionNumber=1\n",
        "\n",
        "- E tambem em: https://www.gigasheet.com/sample-data/google-stock-2010-2023\n",
        "\n",
        "Campos do dataset :\n",
        "\n",
        "1.   Date - Data/dia do mês\n",
        "2.   Open - Valor das ações na Abertura\n",
        "3.   High - Valor mais alto do dia (\"Pico\")\n",
        "4.   Low - Valor mais baixo (\"vale\")\n",
        "5.   Volume - Volume a ser Negociado\n",
        "6.   High - Close : Valor (a maior) no momento de fechamento\n",
        "\n",
        "\n",
        "Objetivo - Usar os dados de treino para prever os valores que estão nos dados de teste, o objetivo é comparar a previsão do modelo com o que de fato aconteceu.\n",
        "\n",
        "\n",
        "\n"
      ],
      "metadata": {
        "id": "5W5eOB01HQdP"
      }
    },
    {
      "cell_type": "code",
      "source": [
        "# 1º Passo: Importar as bibliotecas necessárias\n",
        "import numpy as np # vai ser usado pra criar os arrays\n",
        "import matplotlib.pyplot as plt # para gerar graficos\n",
        "import pandas as pd"
      ],
      "metadata": {
        "id": "YHiu6Xn6--9U"
      },
      "execution_count": 8,
      "outputs": []
    },
    {
      "cell_type": "code",
      "source": [
        "#2º Passo: Obter a fonte de dados de treinamento\n",
        "url_dados = 'https://raw.githubusercontent.com/FabioPojo1987/FabioPojo1987-MVP_2_DATA_SCIENCE_PUC_RIO/main/Google_Stock_Train%20(2010-2022).csv'"
      ],
      "metadata": {
        "id": "9bZUfmaJ0UwR"
      },
      "execution_count": 9,
      "outputs": []
    },
    {
      "cell_type": "code",
      "source": [
        "# 3º Passo: Importar os dados\n",
        "dataset_train = pd.read_csv(url_dados)\n",
        "training_set = dataset_train.iloc[:, 1:2].values # separar apenas os atributos\n",
        "# que usaremos no modelo"
      ],
      "metadata": {
        "id": "hKED_7Ez_CYz"
      },
      "execution_count": 10,
      "outputs": []
    },
    {
      "cell_type": "code",
      "source": [
        "# 4º Passo Transformação e Normalização dos dados\n",
        "from sklearn.preprocessing import MinMaxScaler # estabelecer valores numa mesma escala\n",
        "sc = MinMaxScaler(feature_range = (0, 1)) # define normalização (será entre 0 e 1)\n",
        "training_set_scaled = sc.fit_transform(training_set) # aplicar os dados na normalização"
      ],
      "metadata": {
        "id": "8TOuC6xg_HV7"
      },
      "execution_count": 11,
      "outputs": []
    },
    {
      "cell_type": "code",
      "source": [
        "#5º Passo : Definindo as Estruturas de dados\n",
        "#com 60 intervalos de tempo, vamos pegar 60 dias pra ter uma ideia de prever a proxima saida\n",
        "X_train = [] # cria lista do python pra pegar os 60 dias\n",
        "y_train = [] # essa lista preve o proximo dia\n",
        "for i in range(60, 1258):\n",
        "    X_train.append(training_set_scaled[i-60:i, 0])\n",
        "    y_train.append(training_set_scaled[i, 0])\n",
        "X_train, y_train = np.array(X_train), np.array(y_train)"
      ],
      "metadata": {
        "id": "6sm9mOSI_KLr"
      },
      "execution_count": 12,
      "outputs": []
    },
    {
      "cell_type": "code",
      "source": [
        "# 7º Passo: Colocar os dados no formatos que o Keras exige, ele precisa estar em três dimensões\n",
        "# batch_size, timesteps( intervalos de treinamento, e numero de indicadores que serão usados)\n",
        "X_train = np.reshape(X_train, (X_train.shape[0], X_train.shape[1], 1))"
      ],
      "metadata": {
        "id": "_OUbT5Qo_MsE"
      },
      "execution_count": 13,
      "outputs": []
    },
    {
      "cell_type": "code",
      "source": [
        "# 8º Passo: Importando bibliotecas do Keras\n",
        "from keras.models import Sequential\n",
        "from keras.layers import Dense\n",
        "from keras.layers import LSTM\n",
        "from keras.layers import Dropout"
      ],
      "metadata": {
        "id": "ETqGkAmv_OU5"
      },
      "execution_count": 14,
      "outputs": []
    },
    {
      "cell_type": "code",
      "source": [
        "# 9º Passo: Inicializar a rede neural\n",
        "regressor = Sequential()\n",
        "#Criando as camadas\n",
        "#1\n",
        "regressor.add(LSTM(units = 50, return_sequences = True, input_shape = (X_train.shape[1], 1)))\n",
        "regressor.add(Dropout(0.2))\n",
        "#2\n",
        "regressor.add(LSTM(units = 50, return_sequences = True))\n",
        "regressor.add(Dropout(0.2))\n",
        "#3\n",
        "regressor.add(LSTM(units = 50, return_sequences = True))\n",
        "regressor.add(Dropout(0.2))\n",
        "#4\n",
        "regressor.add(LSTM(units = 50))\n",
        "regressor.add(Dropout(0.2))\n",
        "# camada de saída\n",
        "regressor.add(Dense(units = 1))"
      ],
      "metadata": {
        "id": "wz8ZuTmt_Qxb"
      },
      "execution_count": 15,
      "outputs": []
    },
    {
      "cell_type": "code",
      "source": [
        "# 10º Passo: Fazer a Compilação da rede\n",
        "regressor.compile(optimizer = 'adam', loss = 'mean_squared_error')\n",
        "#Treinando\n",
        "regressor.fit(X_train, y_train, epochs = 100, batch_size = 32)"
      ],
      "metadata": {
        "id": "hMyoJRS4_68M",
        "colab": {
          "base_uri": "https://localhost:8080/"
        },
        "outputId": "cddd6eb6-edcd-4709-dd54-01939193f183"
      },
      "execution_count": 16,
      "outputs": [
        {
          "output_type": "stream",
          "name": "stdout",
          "text": [
            "Epoch 1/100\n",
            "38/38 [==============================] - 13s 148ms/step - loss: 7.6307e-04\n",
            "Epoch 2/100\n",
            "38/38 [==============================] - 4s 117ms/step - loss: 1.2193e-04\n",
            "Epoch 3/100\n",
            "38/38 [==============================] - 5s 133ms/step - loss: 1.1065e-04\n",
            "Epoch 4/100\n",
            "38/38 [==============================] - 5s 131ms/step - loss: 1.0378e-04\n",
            "Epoch 5/100\n",
            "38/38 [==============================] - 4s 116ms/step - loss: 8.2605e-05\n",
            "Epoch 6/100\n",
            "38/38 [==============================] - 6s 148ms/step - loss: 8.1049e-05\n",
            "Epoch 7/100\n",
            "38/38 [==============================] - 4s 116ms/step - loss: 7.5458e-05\n",
            "Epoch 8/100\n",
            "38/38 [==============================] - 4s 118ms/step - loss: 8.1920e-05\n",
            "Epoch 9/100\n",
            "38/38 [==============================] - 6s 149ms/step - loss: 7.5144e-05\n",
            "Epoch 10/100\n",
            "38/38 [==============================] - 4s 116ms/step - loss: 7.8791e-05\n",
            "Epoch 11/100\n",
            "38/38 [==============================] - 6s 146ms/step - loss: 7.1566e-05\n",
            "Epoch 12/100\n",
            "38/38 [==============================] - 5s 118ms/step - loss: 6.5025e-05\n",
            "Epoch 13/100\n",
            "38/38 [==============================] - 4s 118ms/step - loss: 6.1799e-05\n",
            "Epoch 14/100\n",
            "38/38 [==============================] - 6s 146ms/step - loss: 6.1380e-05\n",
            "Epoch 15/100\n",
            "38/38 [==============================] - 4s 116ms/step - loss: 6.3562e-05\n",
            "Epoch 16/100\n",
            "38/38 [==============================] - 5s 130ms/step - loss: 5.8069e-05\n",
            "Epoch 17/100\n",
            "38/38 [==============================] - 5s 135ms/step - loss: 7.8060e-05\n",
            "Epoch 18/100\n",
            "38/38 [==============================] - 4s 118ms/step - loss: 5.6963e-05\n",
            "Epoch 19/100\n",
            "38/38 [==============================] - 6s 149ms/step - loss: 4.9366e-05\n",
            "Epoch 20/100\n",
            "38/38 [==============================] - 5s 119ms/step - loss: 5.2932e-05\n",
            "Epoch 21/100\n",
            "38/38 [==============================] - 5s 119ms/step - loss: 6.0912e-05\n",
            "Epoch 22/100\n",
            "38/38 [==============================] - 6s 146ms/step - loss: 4.9487e-05\n",
            "Epoch 23/100\n",
            "38/38 [==============================] - 5s 120ms/step - loss: 4.8337e-05\n",
            "Epoch 24/100\n",
            "38/38 [==============================] - 6s 149ms/step - loss: 4.3299e-05\n",
            "Epoch 25/100\n",
            "38/38 [==============================] - 4s 118ms/step - loss: 5.1208e-05\n",
            "Epoch 26/100\n",
            "38/38 [==============================] - 5s 119ms/step - loss: 4.3278e-05\n",
            "Epoch 27/100\n",
            "38/38 [==============================] - 6s 146ms/step - loss: 5.3204e-05\n",
            "Epoch 28/100\n",
            "38/38 [==============================] - 5s 119ms/step - loss: 5.1028e-05\n",
            "Epoch 29/100\n",
            "38/38 [==============================] - 5s 138ms/step - loss: 4.5721e-05\n",
            "Epoch 30/100\n",
            "38/38 [==============================] - 5s 126ms/step - loss: 4.3730e-05\n",
            "Epoch 31/100\n",
            "38/38 [==============================] - 4s 117ms/step - loss: 4.6050e-05\n",
            "Epoch 32/100\n",
            "38/38 [==============================] - 6s 150ms/step - loss: 4.5303e-05\n",
            "Epoch 33/100\n",
            "38/38 [==============================] - 5s 119ms/step - loss: 4.8606e-05\n",
            "Epoch 34/100\n",
            "38/38 [==============================] - 5s 129ms/step - loss: 4.3153e-05\n",
            "Epoch 35/100\n",
            "38/38 [==============================] - 5s 139ms/step - loss: 4.6853e-05\n",
            "Epoch 36/100\n",
            "38/38 [==============================] - 5s 119ms/step - loss: 3.9570e-05\n",
            "Epoch 37/100\n",
            "38/38 [==============================] - 6s 149ms/step - loss: 4.1273e-05\n",
            "Epoch 38/100\n",
            "38/38 [==============================] - 5s 119ms/step - loss: 4.1211e-05\n",
            "Epoch 39/100\n",
            "38/38 [==============================] - 5s 119ms/step - loss: 4.3000e-05\n",
            "Epoch 40/100\n",
            "38/38 [==============================] - 6s 149ms/step - loss: 4.0374e-05\n",
            "Epoch 41/100\n",
            "38/38 [==============================] - 5s 118ms/step - loss: 3.7233e-05\n",
            "Epoch 42/100\n",
            "38/38 [==============================] - 6s 149ms/step - loss: 3.9372e-05\n",
            "Epoch 43/100\n",
            "38/38 [==============================] - 5s 119ms/step - loss: 3.7744e-05\n",
            "Epoch 44/100\n",
            "38/38 [==============================] - 5s 118ms/step - loss: 4.0262e-05\n",
            "Epoch 45/100\n",
            "38/38 [==============================] - 6s 150ms/step - loss: 3.6501e-05\n",
            "Epoch 46/100\n",
            "38/38 [==============================] - 4s 118ms/step - loss: 4.2673e-05\n",
            "Epoch 47/100\n",
            "38/38 [==============================] - 5s 134ms/step - loss: 4.9960e-05\n",
            "Epoch 48/100\n",
            "38/38 [==============================] - 5s 130ms/step - loss: 4.3004e-05\n",
            "Epoch 49/100\n",
            "38/38 [==============================] - 4s 117ms/step - loss: 4.1475e-05\n",
            "Epoch 50/100\n",
            "38/38 [==============================] - 6s 149ms/step - loss: 4.0122e-05\n",
            "Epoch 51/100\n",
            "38/38 [==============================] - 4s 117ms/step - loss: 3.5697e-05\n",
            "Epoch 52/100\n",
            "38/38 [==============================] - 5s 120ms/step - loss: 3.4637e-05\n",
            "Epoch 53/100\n",
            "38/38 [==============================] - 6s 144ms/step - loss: 3.8313e-05\n",
            "Epoch 54/100\n",
            "38/38 [==============================] - 4s 118ms/step - loss: 3.8188e-05\n",
            "Epoch 55/100\n",
            "38/38 [==============================] - 6s 148ms/step - loss: 3.3927e-05\n",
            "Epoch 56/100\n",
            "38/38 [==============================] - 5s 119ms/step - loss: 3.0223e-05\n",
            "Epoch 57/100\n",
            "38/38 [==============================] - 5s 120ms/step - loss: 3.5875e-05\n",
            "Epoch 58/100\n",
            "38/38 [==============================] - 6s 148ms/step - loss: 3.9414e-05\n",
            "Epoch 59/100\n",
            "38/38 [==============================] - 5s 119ms/step - loss: 3.4042e-05\n",
            "Epoch 60/100\n",
            "38/38 [==============================] - 5s 141ms/step - loss: 3.2822e-05\n",
            "Epoch 61/100\n",
            "38/38 [==============================] - 5s 123ms/step - loss: 3.8257e-05\n",
            "Epoch 62/100\n",
            "38/38 [==============================] - 5s 118ms/step - loss: 3.4799e-05\n",
            "Epoch 63/100\n",
            "38/38 [==============================] - 6s 149ms/step - loss: 4.6214e-05\n",
            "Epoch 64/100\n",
            "38/38 [==============================] - 4s 118ms/step - loss: 3.3850e-05\n",
            "Epoch 65/100\n",
            "38/38 [==============================] - 5s 128ms/step - loss: 3.3951e-05\n",
            "Epoch 66/100\n",
            "38/38 [==============================] - 5s 137ms/step - loss: 3.6377e-05\n",
            "Epoch 67/100\n",
            "38/38 [==============================] - 4s 117ms/step - loss: 3.7547e-05\n",
            "Epoch 68/100\n",
            "38/38 [==============================] - 6s 146ms/step - loss: 3.6749e-05\n",
            "Epoch 69/100\n",
            "38/38 [==============================] - 4s 118ms/step - loss: 4.2274e-05\n",
            "Epoch 70/100\n",
            "38/38 [==============================] - 4s 117ms/step - loss: 3.9415e-05\n",
            "Epoch 71/100\n",
            "38/38 [==============================] - 5s 145ms/step - loss: 4.1311e-05\n",
            "Epoch 72/100\n",
            "38/38 [==============================] - 4s 116ms/step - loss: 3.4390e-05\n",
            "Epoch 73/100\n",
            "38/38 [==============================] - 5s 140ms/step - loss: 3.1219e-05\n",
            "Epoch 74/100\n",
            "38/38 [==============================] - 5s 119ms/step - loss: 3.2836e-05\n",
            "Epoch 75/100\n",
            "38/38 [==============================] - 4s 116ms/step - loss: 3.5756e-05\n",
            "Epoch 76/100\n",
            "38/38 [==============================] - 6s 146ms/step - loss: 3.1323e-05\n",
            "Epoch 77/100\n",
            "38/38 [==============================] - 4s 117ms/step - loss: 3.8027e-05\n",
            "Epoch 78/100\n",
            "38/38 [==============================] - 5s 119ms/step - loss: 3.9995e-05\n",
            "Epoch 79/100\n",
            "38/38 [==============================] - 5s 140ms/step - loss: 3.1647e-05\n",
            "Epoch 80/100\n",
            "38/38 [==============================] - 4s 116ms/step - loss: 3.0911e-05\n",
            "Epoch 81/100\n",
            "38/38 [==============================] - 5s 145ms/step - loss: 4.1704e-05\n",
            "Epoch 82/100\n",
            "38/38 [==============================] - 4s 117ms/step - loss: 3.2793e-05\n",
            "Epoch 83/100\n",
            "38/38 [==============================] - 5s 119ms/step - loss: 3.4091e-05\n",
            "Epoch 84/100\n",
            "38/38 [==============================] - 6s 147ms/step - loss: 3.4307e-05\n",
            "Epoch 85/100\n",
            "38/38 [==============================] - 4s 118ms/step - loss: 3.5987e-05\n",
            "Epoch 86/100\n",
            "38/38 [==============================] - 5s 135ms/step - loss: 3.1457e-05\n",
            "Epoch 87/100\n",
            "38/38 [==============================] - 5s 133ms/step - loss: 3.0765e-05\n",
            "Epoch 88/100\n",
            "38/38 [==============================] - 4s 118ms/step - loss: 2.8887e-05\n",
            "Epoch 89/100\n",
            "38/38 [==============================] - 6s 151ms/step - loss: 2.8349e-05\n",
            "Epoch 90/100\n",
            "38/38 [==============================] - 5s 121ms/step - loss: 3.7516e-05\n",
            "Epoch 91/100\n",
            "38/38 [==============================] - 5s 124ms/step - loss: 3.2666e-05\n",
            "Epoch 92/100\n",
            "38/38 [==============================] - 5s 140ms/step - loss: 3.3290e-05\n",
            "Epoch 93/100\n",
            "38/38 [==============================] - 4s 118ms/step - loss: 3.5952e-05\n",
            "Epoch 94/100\n",
            "38/38 [==============================] - 6s 145ms/step - loss: 2.9651e-05\n",
            "Epoch 95/100\n",
            "38/38 [==============================] - 5s 119ms/step - loss: 3.4367e-05\n",
            "Epoch 96/100\n",
            "38/38 [==============================] - 5s 119ms/step - loss: 3.0627e-05\n",
            "Epoch 97/100\n",
            "38/38 [==============================] - 6s 152ms/step - loss: 3.4743e-05\n",
            "Epoch 98/100\n",
            "38/38 [==============================] - 5s 122ms/step - loss: 3.5594e-05\n",
            "Epoch 99/100\n",
            "38/38 [==============================] - 6s 149ms/step - loss: 3.5731e-05\n",
            "Epoch 100/100\n",
            "38/38 [==============================] - 5s 119ms/step - loss: 3.3711e-05\n"
          ]
        },
        {
          "output_type": "execute_result",
          "data": {
            "text/plain": [
              "<keras.src.callbacks.History at 0x7a0128217ca0>"
            ]
          },
          "metadata": {},
          "execution_count": 16
        }
      ]
    },
    {
      "cell_type": "code",
      "source": [
        "# 11º Passo: Obter dados de teste\n",
        "url_dados2 = 'https://github.com/FabioPojo1987/FabioPojo1987-MVP_2_DATA_SCIENCE_PUC_RIO/blob/main/Google_Stock_Price_(01-2010_-_12-2023).csv'"
      ],
      "metadata": {
        "id": "ylXnxm8t1w1S"
      },
      "execution_count": 2,
      "outputs": []
    },
    {
      "cell_type": "code",
      "source": [
        "# 12º Passo: Obtendo os dados reais entre 2010 a 2023\n",
        "import pandas as pd\n",
        "dataset_test = pd.read_csv('Google_Stock_Price_(01-2010_-_12-2023).csv')\n",
        "real_stock_price = dataset_test.iloc[:, 1:2].values # pegar apenas coluna de saída, a Open"
      ],
      "metadata": {
        "id": "w11f2BX6CrHp"
      },
      "execution_count": 3,
      "outputs": []
    },
    {
      "cell_type": "code",
      "source": [
        "# 13º Passo: Obtendo os dados previstos\n",
        "dataset_total = pd.concat((dataset_train['Open'], dataset_test['Open']), axis = 0)\n",
        "inputs = dataset_total[len(dataset_total) - len(dataset_test) - 60:].values\n",
        "inputs = inputs.reshape(-1,1) # transformar a variável passando -1 e 1 como parâmetro\n",
        "inputs = sc.transform(inputs) # fazer a normalização\n",
        "X_test = []\n",
        "for i in range(60, 100):\n",
        "    X_test.append(inputs[i-60:i, 0])\n",
        "X_test = np.array(X_test)\n",
        "X_test = np.reshape(X_test, (X_test.shape[0], X_test.shape[1], 1))\n",
        "predicted_stock_price = regressor.predict(X_test)\n",
        "predicted_stock_price = sc.inverse_transform(predicted_stock_price)"
      ],
      "metadata": {
        "colab": {
          "base_uri": "https://localhost:8080/"
        },
        "id": "mZbCiyaeCtGQ",
        "outputId": "e90d93dd-5074-47d5-f2bb-87ff3a47889e"
      },
      "execution_count": 17,
      "outputs": [
        {
          "output_type": "stream",
          "name": "stdout",
          "text": [
            "2/2 [==============================] - 2s 26ms/step\n"
          ]
        }
      ]
    },
    {
      "cell_type": "code",
      "source": [
        "# 14º Passo: Visualizando os Resultados\n",
        "plt.plot(real_stock_price, color = 'orange', label = 'Dados Reais de Ações do Google')\n",
        "plt.plot(predicted_stock_price, color = 'green', label = 'Dados Previstos de Ações do Google')\n",
        "plt.title('Previsão VS Realidade de Preços de Ações do Google')\n",
        "plt.xlabel('Tempo')\n",
        "plt.ylabel('Preços de Ações do Google')\n",
        "plt.legend()\n",
        "plt.show()"
      ],
      "metadata": {
        "id": "-fBsqmdvCu_R",
        "colab": {
          "base_uri": "https://localhost:8080/",
          "height": 472
        },
        "outputId": "4f919ad3-8be5-412d-f537-a6812ea281c3"
      },
      "execution_count": 18,
      "outputs": [
        {
          "output_type": "display_data",
          "data": {
            "text/plain": [
              "<Figure size 640x480 with 1 Axes>"
            ],
            "image/png": "[encoded data removed]"
          },
          "metadata": {}
        }
      ]
    },
    {
      "cell_type": "markdown",
      "source": [
        "A partir deste trabalho, foi possível observar que o sistema de previsão até que conseguiu obter uma tendência bem interessante, especialmente sendo bem útil para pessoas que lidam com o mercado de ações na Bolsa de Valores.\n",
        "\n",
        "Contudo, ainda assim o algoritmo não conseguiu acertar as tendências. Errou em parte.\n",
        "\n",
        "Pois, utilizar esse tipo de metodologia (para tentar prever dados de ações financeiras) é algo bastante complexo e demanda muito tempo e poder de processamento para ter mais eficiência e precisão.\n",
        "\n",
        "Fora que, devido ao fato de se lidar com informações de risco, não é aconselhavel de se basear os investimentos de capital em modelos de simulação como esse.\n",
        "\n",
        "Porém, pode-se utilizar esse tipo de metodologia pra estudar e aprender novas possibilidades de previsões e de tendência."
      ],
      "metadata": {
        "id": "miHtGpPmHa99"
      }
    }
  ]
}