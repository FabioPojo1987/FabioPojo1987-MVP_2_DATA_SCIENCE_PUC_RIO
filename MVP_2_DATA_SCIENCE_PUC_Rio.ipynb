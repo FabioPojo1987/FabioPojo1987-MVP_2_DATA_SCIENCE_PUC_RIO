{
  "nbformat": 4,
  "nbformat_minor": 0,
  "metadata": {
    "colab": {
      "provenance": [],
      "include_colab_link": true
    },
    "kernelspec": {
      "name": "python3",
      "display_name": "Python 3"
    },
    "language_info": {
      "name": "python"
    }
  },
  "cells": [
    {
      "cell_type": "markdown",
      "metadata": {
        "id": "view-in-github",
        "colab_type": "text"
      },
      "source": [
        "<a href=\"https://colab.research.google.com/github/FabioPojo1987/FabioPojo1987-MVP_2_DATA_SCIENCE_PUC_RIO/blob/main/MVP_2_DATA_SCIENCE_PUC_Rio.ipynb\" target=\"_parent\"><img src=\"https://colab.research.google.com/assets/colab-badge.svg\" alt=\"Open In Colab\"/></a>"
      ]
    },
    {
      "cell_type": "markdown",
      "source": [],
      "metadata": {
        "id": "SqrLrqyLHQFY"
      }
    },
    {
      "cell_type": "markdown",
      "source": [
        "# **Projeto de MVP da 2ª Sprint do curso de Ciência de Dados na PUC-Rio (por Fabio Pojo de Almeida).**\n",
        "\n",
        "\n",
        "Este projeto se trata na construção de um modelo de aprendizado de máquina (\"machine learning\") para criar insights sobre como ocorre a variação de dados dos valores das ações do Google no Mercado de Ações.\n",
        "\n",
        "Onde foi utilizado um recorte temporal compreendido entre os anos de 2010 e 2023\n",
        "\n",
        "Este projeto está baseado em um modelo de \"Rede Neural Recorrente\" e está usando de referência os dados presentes nas planilhas csv\n",
        "\n",
        "Para isso, foi decidido um exemplo onde esses dados foram separados em duas bases em 2 arquivos diferentes: 1- base de treino e 2- teste (a faixa da base de teste tem como referência um período de 3 semanas, ou 21 dias)\n",
        "\n",
        "- A base de dados utilizada para os valores das ações do Google (Alphabet.inc.) foi obtida através do Kaggle em: https://www.kaggle.com/datasets/alirezajavid1999/google-stock-2010-2023/download?datasetVersionNumber=1\n",
        "\n",
        "\n",
        "Campos do dataset :\n",
        "\n",
        "1.   Date\n",
        "2.   Open - Valor das ações na Abertura\n",
        "3.   High - Valor mais alto do dia (\"Pico\")\n",
        "4.   Low - Valor mais baixo (\"vale\")\n",
        "5.   Volume - Volume a ser Negociado\n",
        "6.   High - Close : Valor (a maior) no momento de fechamento\n",
        "\n",
        "\n",
        "Objetivo - Usar os dados de treino para prever os valores que estão nos dados de teste, o objetivo é comparar a previsão do modelo com o que de fato aconteceu.\n",
        "\n",
        "\n",
        "\n"
      ],
      "metadata": {
        "id": "5W5eOB01HQdP"
      }
    },
    {
      "cell_type": "code",
      "source": [
        "# Importar as bibliotecas\n",
        "import numpy as np # vai ser usado pra criar os arrays\n",
        "import matplotlib.pyplot as plt # para gerar graficos\n",
        "import pandas as pd"
      ],
      "metadata": {
        "id": "YHiu6Xn6--9U"
      },
      "execution_count": null,
      "outputs": []
    },
    {
      "cell_type": "code",
      "source": [
        "url_dados = 'https://raw.githubusercontent.com/FabioPojo1987/FabioPojo1987-MVP_2_DATA_SCIENCE_PUC_RIO/main/Google_Stock_Train%20(2010-2022).csv'"
      ],
      "metadata": {
        "id": "9bZUfmaJ0UwR"
      },
      "execution_count": null,
      "outputs": []
    },
    {
      "cell_type": "code",
      "source": [
        "#importar os dados\n",
        "dataset_train = pd.read_csv(url_dados)\n",
        "training_set = dataset_train.iloc[:, 1:2].values # separar apenas os atributos\n",
        "# que usaremos no modelo"
      ],
      "metadata": {
        "id": "hKED_7Ez_CYz"
      },
      "execution_count": null,
      "outputs": []
    },
    {
      "cell_type": "code",
      "source": [
        "#Transformação\n",
        "from sklearn.preprocessing import MinMaxScaler # criar valores numa mesma escala\n",
        "sc = MinMaxScaler(feature_range = (0, 1)) # a normalização será entre 0 e 1\n",
        "training_set_scaled = sc.fit_transform(training_set) # aplicar os dados na normalização"
      ],
      "metadata": {
        "id": "8TOuC6xg_HV7"
      },
      "execution_count": null,
      "outputs": []
    },
    {
      "cell_type": "code",
      "source": [
        "#Estruturas de dados com 60 intervalos de tempo, vamos pegar\n",
        "# sempre 60 dias pra prever a proxima saida\n",
        "X_train = [] # cria lista do python pra pegar os 60 dias\n",
        "y_train = [] # essa lista preve o proximo dia\n",
        "for i in range(60, 1258):\n",
        "    X_train.append(training_set_scaled[i-60:i, 0])\n",
        "    y_train.append(training_set_scaled[i, 0])\n",
        "X_train, y_train = np.array(X_train), np.array(y_train)"
      ],
      "metadata": {
        "id": "6sm9mOSI_KLr"
      },
      "execution_count": null,
      "outputs": []
    },
    {
      "cell_type": "code",
      "source": [
        "# Colocar os dados no formatos que o Keras exige, ele precisa estar em três dimensões\n",
        "# batch_size, timesteps( intervalos de treinamento, e numero de indicadores que serão usados)\n",
        "X_train = np.reshape(X_train, (X_train.shape[0], X_train.shape[1], 1))"
      ],
      "metadata": {
        "id": "_OUbT5Qo_MsE"
      },
      "execution_count": null,
      "outputs": []
    },
    {
      "cell_type": "code",
      "source": [
        "#Importando bibliotecas do Keras\n",
        "from keras.models import Sequential\n",
        "from keras.layers import Dense\n",
        "from keras.layers import LSTM\n",
        "from keras.layers import Dropout"
      ],
      "metadata": {
        "id": "ETqGkAmv_OU5"
      },
      "execution_count": null,
      "outputs": []
    },
    {
      "cell_type": "code",
      "source": [
        "#Inicializar a rede neural\n",
        "regressor = Sequential()\n",
        "#Criando as camadas\n",
        "#1\n",
        "regressor.add(LSTM(units = 50, return_sequences = True, input_shape = (X_train.shape[1], 1)))\n",
        "regressor.add(Dropout(0.2))\n",
        "#2\n",
        "regressor.add(LSTM(units = 50, return_sequences = True))\n",
        "regressor.add(Dropout(0.2))\n",
        "#3\n",
        "regressor.add(LSTM(units = 50, return_sequences = True))\n",
        "regressor.add(Dropout(0.2))\n",
        "#4\n",
        "regressor.add(LSTM(units = 50))\n",
        "regressor.add(Dropout(0.2))\n",
        "# camda de saída\n",
        "regressor.add(Dense(units = 1))"
      ],
      "metadata": {
        "id": "wz8ZuTmt_Qxb"
      },
      "execution_count": null,
      "outputs": []
    },
    {
      "cell_type": "code",
      "source": [
        "#Compilando a rede\n",
        "regressor.compile(optimizer = 'adam', loss = 'mean_squared_error')\n",
        "#Treinando\n",
        "regressor.fit(X_train, y_train, epochs = 100, batch_size = 32)"
      ],
      "metadata": {
        "id": "hMyoJRS4_68M",
        "colab": {
          "base_uri": "https://localhost:8080/"
        },
        "outputId": "378eb3be-5c08-4e9d-8339-d6ddc3054f3e"
      },
      "execution_count": null,
      "outputs": [
        {
          "output_type": "stream",
          "name": "stdout",
          "text": [
            "Epoch 1/100\n",
            "38/38 [==============================] - 13s 105ms/step - loss: 1.2472e-04\n",
            "Epoch 2/100\n",
            "38/38 [==============================] - 5s 130ms/step - loss: 7.7544e-05\n",
            "Epoch 3/100\n",
            "38/38 [==============================] - 4s 101ms/step - loss: 7.5529e-05\n",
            "Epoch 4/100\n",
            "38/38 [==============================] - 4s 104ms/step - loss: 7.4068e-05\n",
            "Epoch 5/100\n",
            "38/38 [==============================] - 5s 128ms/step - loss: 6.4115e-05\n",
            "Epoch 6/100\n",
            "38/38 [==============================] - 4s 102ms/step - loss: 6.5571e-05\n",
            "Epoch 7/100\n",
            "38/38 [==============================] - 4s 103ms/step - loss: 5.9651e-05\n",
            "Epoch 8/100\n",
            "38/38 [==============================] - 5s 134ms/step - loss: 5.1640e-05\n",
            "Epoch 9/100\n",
            "38/38 [==============================] - 4s 113ms/step - loss: 7.8041e-05\n",
            "Epoch 10/100\n",
            "38/38 [==============================] - 4s 103ms/step - loss: 5.7445e-05\n",
            "Epoch 11/100\n",
            "38/38 [==============================] - 5s 144ms/step - loss: 4.4652e-05\n",
            "Epoch 12/100\n",
            "38/38 [==============================] - 4s 102ms/step - loss: 5.0814e-05\n",
            "Epoch 13/100\n",
            "38/38 [==============================] - 4s 103ms/step - loss: 5.0581e-05\n",
            "Epoch 14/100\n",
            "38/38 [==============================] - 5s 129ms/step - loss: 5.0875e-05\n",
            "Epoch 15/100\n",
            "38/38 [==============================] - 4s 111ms/step - loss: 4.5419e-05\n",
            "Epoch 16/100\n",
            "38/38 [==============================] - 4s 102ms/step - loss: 5.6150e-05\n",
            "Epoch 17/100\n",
            "38/38 [==============================] - 5s 129ms/step - loss: 5.2203e-05\n",
            "Epoch 18/100\n",
            "38/38 [==============================] - 4s 116ms/step - loss: 4.1906e-05\n",
            "Epoch 19/100\n",
            "38/38 [==============================] - 5s 128ms/step - loss: 4.0755e-05\n",
            "Epoch 20/100\n",
            "38/38 [==============================] - 4s 113ms/step - loss: 4.6986e-05\n",
            "Epoch 21/100\n",
            "38/38 [==============================] - 4s 103ms/step - loss: 3.7597e-05\n",
            "Epoch 22/100\n",
            "38/38 [==============================] - 5s 125ms/step - loss: 5.1154e-05\n",
            "Epoch 23/100\n",
            "38/38 [==============================] - 4s 104ms/step - loss: 3.8516e-05\n",
            "Epoch 24/100\n",
            "38/38 [==============================] - 4s 102ms/step - loss: 4.1597e-05\n",
            "Epoch 25/100\n",
            "38/38 [==============================] - 5s 124ms/step - loss: 4.4236e-05\n",
            "Epoch 26/100\n",
            "38/38 [==============================] - 4s 104ms/step - loss: 4.2399e-05\n",
            "Epoch 27/100\n",
            "38/38 [==============================] - 4s 102ms/step - loss: 4.8521e-05\n",
            "Epoch 28/100\n",
            "38/38 [==============================] - 5s 128ms/step - loss: 4.2721e-05\n",
            "Epoch 29/100\n",
            "38/38 [==============================] - 4s 102ms/step - loss: 3.8564e-05\n",
            "Epoch 30/100\n",
            "38/38 [==============================] - 4s 102ms/step - loss: 4.4650e-05\n",
            "Epoch 31/100\n",
            "38/38 [==============================] - 5s 128ms/step - loss: 4.8529e-05\n",
            "Epoch 32/100\n",
            "38/38 [==============================] - 4s 103ms/step - loss: 3.6910e-05\n",
            "Epoch 33/100\n",
            "38/38 [==============================] - 4s 104ms/step - loss: 4.0330e-05\n",
            "Epoch 34/100\n",
            "38/38 [==============================] - 5s 129ms/step - loss: 3.7539e-05\n",
            "Epoch 35/100\n",
            "38/38 [==============================] - 4s 104ms/step - loss: 3.8410e-05\n",
            "Epoch 36/100\n",
            "38/38 [==============================] - 4s 103ms/step - loss: 4.5632e-05\n",
            "Epoch 37/100\n",
            "38/38 [==============================] - 5s 131ms/step - loss: 4.0378e-05\n",
            "Epoch 38/100\n",
            "38/38 [==============================] - 4s 104ms/step - loss: 4.2246e-05\n",
            "Epoch 39/100\n",
            "38/38 [==============================] - 4s 104ms/step - loss: 3.9730e-05\n",
            "Epoch 40/100\n",
            "38/38 [==============================] - 5s 129ms/step - loss: 3.7753e-05\n",
            "Epoch 41/100\n",
            "38/38 [==============================] - 4s 103ms/step - loss: 3.7546e-05\n",
            "Epoch 42/100\n",
            "38/38 [==============================] - 4s 105ms/step - loss: 4.0020e-05\n",
            "Epoch 43/100\n",
            "38/38 [==============================] - 5s 130ms/step - loss: 4.0505e-05\n",
            "Epoch 44/100\n",
            "38/38 [==============================] - 4s 103ms/step - loss: 3.4600e-05\n",
            "Epoch 45/100\n",
            "38/38 [==============================] - 4s 101ms/step - loss: 3.3720e-05\n",
            "Epoch 46/100\n",
            "38/38 [==============================] - 5s 129ms/step - loss: 3.8613e-05\n",
            "Epoch 47/100\n",
            "38/38 [==============================] - 4s 103ms/step - loss: 3.0994e-05\n",
            "Epoch 48/100\n",
            "38/38 [==============================] - 4s 102ms/step - loss: 3.3565e-05\n",
            "Epoch 49/100\n",
            "38/38 [==============================] - 5s 129ms/step - loss: 3.1479e-05\n",
            "Epoch 50/100\n",
            "38/38 [==============================] - 4s 113ms/step - loss: 3.1604e-05\n",
            "Epoch 51/100\n",
            "38/38 [==============================] - 4s 101ms/step - loss: 3.5153e-05\n",
            "Epoch 52/100\n",
            "38/38 [==============================] - 5s 128ms/step - loss: 3.7770e-05\n",
            "Epoch 53/100\n",
            "38/38 [==============================] - 4s 101ms/step - loss: 3.6028e-05\n",
            "Epoch 54/100\n",
            "38/38 [==============================] - 4s 102ms/step - loss: 3.4943e-05\n",
            "Epoch 55/100\n",
            "38/38 [==============================] - 5s 129ms/step - loss: 3.4325e-05\n",
            "Epoch 56/100\n",
            "38/38 [==============================] - 4s 103ms/step - loss: 3.6282e-05\n",
            "Epoch 57/100\n",
            "38/38 [==============================] - 4s 102ms/step - loss: 3.3812e-05\n",
            "Epoch 58/100\n",
            "38/38 [==============================] - 5s 128ms/step - loss: 3.3217e-05\n",
            "Epoch 59/100\n",
            "38/38 [==============================] - 4s 101ms/step - loss: 3.3893e-05\n",
            "Epoch 60/100\n",
            "38/38 [==============================] - 4s 102ms/step - loss: 3.6276e-05\n",
            "Epoch 61/100\n",
            "38/38 [==============================] - 5s 129ms/step - loss: 3.4754e-05\n",
            "Epoch 62/100\n",
            "38/38 [==============================] - 4s 106ms/step - loss: 3.4974e-05\n",
            "Epoch 63/100\n",
            "38/38 [==============================] - 4s 103ms/step - loss: 2.7912e-05\n",
            "Epoch 64/100\n",
            "38/38 [==============================] - 5s 131ms/step - loss: 3.0732e-05\n",
            "Epoch 65/100\n",
            "38/38 [==============================] - 4s 103ms/step - loss: 3.4224e-05\n",
            "Epoch 66/100\n",
            "38/38 [==============================] - 4s 103ms/step - loss: 3.4947e-05\n",
            "Epoch 67/100\n",
            "38/38 [==============================] - 5s 128ms/step - loss: 3.0829e-05\n",
            "Epoch 68/100\n",
            "38/38 [==============================] - 4s 103ms/step - loss: 4.6665e-05\n",
            "Epoch 69/100\n",
            "38/38 [==============================] - 4s 106ms/step - loss: 3.0792e-05\n",
            "Epoch 70/100\n",
            "38/38 [==============================] - 5s 125ms/step - loss: 3.3537e-05\n",
            "Epoch 71/100\n",
            "38/38 [==============================] - 4s 104ms/step - loss: 3.6557e-05\n",
            "Epoch 72/100\n",
            "38/38 [==============================] - 4s 111ms/step - loss: 3.0477e-05\n",
            "Epoch 73/100\n",
            "38/38 [==============================] - 5s 118ms/step - loss: 3.4804e-05\n",
            "Epoch 74/100\n",
            "38/38 [==============================] - 4s 102ms/step - loss: 2.7744e-05\n",
            "Epoch 75/100\n",
            "38/38 [==============================] - 4s 112ms/step - loss: 2.6993e-05\n",
            "Epoch 76/100\n",
            "38/38 [==============================] - 5s 119ms/step - loss: 2.8054e-05\n",
            "Epoch 77/100\n",
            "38/38 [==============================] - 4s 102ms/step - loss: 2.7957e-05\n",
            "Epoch 78/100\n",
            "38/38 [==============================] - 4s 113ms/step - loss: 3.0078e-05\n",
            "Epoch 79/100\n",
            "38/38 [==============================] - 4s 115ms/step - loss: 3.3707e-05\n",
            "Epoch 80/100\n",
            "38/38 [==============================] - 4s 102ms/step - loss: 2.8411e-05\n",
            "Epoch 81/100\n",
            "38/38 [==============================] - 4s 115ms/step - loss: 3.0636e-05\n",
            "Epoch 82/100\n",
            "38/38 [==============================] - 4s 116ms/step - loss: 3.2642e-05\n",
            "Epoch 83/100\n",
            "38/38 [==============================] - 4s 102ms/step - loss: 3.0688e-05\n",
            "Epoch 84/100\n",
            "38/38 [==============================] - 4s 115ms/step - loss: 3.1829e-05\n",
            "Epoch 85/100\n",
            "38/38 [==============================] - 4s 115ms/step - loss: 2.9446e-05\n",
            "Epoch 86/100\n",
            "38/38 [==============================] - 4s 103ms/step - loss: 3.1075e-05\n",
            "Epoch 87/100\n",
            "38/38 [==============================] - 4s 116ms/step - loss: 3.1759e-05\n",
            "Epoch 88/100\n",
            "38/38 [==============================] - 4s 113ms/step - loss: 3.7237e-05\n",
            "Epoch 89/100\n",
            "38/38 [==============================] - 4s 102ms/step - loss: 2.8416e-05\n",
            "Epoch 90/100\n",
            "38/38 [==============================] - 5s 120ms/step - loss: 3.3833e-05\n",
            "Epoch 91/100\n",
            "38/38 [==============================] - 4s 111ms/step - loss: 2.7814e-05\n",
            "Epoch 92/100\n",
            "38/38 [==============================] - 4s 102ms/step - loss: 3.0146e-05\n",
            "Epoch 93/100\n",
            "38/38 [==============================] - 5s 124ms/step - loss: 3.3307e-05\n",
            "Epoch 94/100\n",
            "38/38 [==============================] - 4s 108ms/step - loss: 3.0189e-05\n",
            "Epoch 95/100\n",
            "38/38 [==============================] - 4s 104ms/step - loss: 2.6660e-05\n",
            "Epoch 96/100\n",
            "38/38 [==============================] - 5s 129ms/step - loss: 2.8795e-05\n",
            "Epoch 97/100\n",
            "38/38 [==============================] - 4s 104ms/step - loss: 2.9523e-05\n",
            "Epoch 98/100\n",
            "38/38 [==============================] - 4s 104ms/step - loss: 2.8286e-05\n",
            "Epoch 99/100\n",
            "38/38 [==============================] - 5s 129ms/step - loss: 2.9788e-05\n",
            "Epoch 100/100\n",
            "38/38 [==============================] - 4s 102ms/step - loss: 2.8820e-05\n"
          ]
        },
        {
          "output_type": "execute_result",
          "data": {
            "text/plain": [
              "<keras.src.callbacks.History at 0x7c153ffabee0>"
            ]
          },
          "metadata": {},
          "execution_count": 22
        }
      ]
    },
    {
      "cell_type": "code",
      "source": [
        "url_dados2 = 'https://github.com/FabioPojo1987/FabioPojo1987-MVP_2_DATA_SCIENCE_PUC_RIO/blob/main/Google_Stock_Price_(2010-2023).csv'"
      ],
      "metadata": {
        "id": "ylXnxm8t1w1S"
      },
      "execution_count": null,
      "outputs": []
    },
    {
      "cell_type": "code",
      "source": [
        "#Obtendo os dados reais\n",
        "dataset_test = pd.read_csv('Google_Stock_Test_(2010-2023).csv')\n",
        "real_stock_price = dataset_test.iloc[:, 1:2].values\n",
        "real_stock_price = dataset_test.iloc[:, 1:2].values # pegar apenas coluna de saída, a Open"
      ],
      "metadata": {
        "id": "w11f2BX6CrHp"
      },
      "execution_count": null,
      "outputs": []
    },
    {
      "cell_type": "code",
      "source": [
        "#Obtendo os dados previstos\n",
        "dataset_total = pd.concat((dataset_train['Open'], dataset_test['Open']), axis = 0)\n",
        "inputs = dataset_total[len(dataset_total) - len(dataset_test) - 60:].values\n",
        "inputs = inputs.reshape(-1,1) # transformar a variável passando -1 e 1 como parâmetro\n",
        "inputs = sc.transform(inputs) # fazer a normalização\n",
        "X_test = []\n",
        "for i in range(60, 80):\n",
        "    X_test.append(inputs[i-60:i, 0])\n",
        "X_test = np.array(X_test)\n",
        "X_test = np.reshape(X_test, (X_test.shape[0], X_test.shape[1], 1))\n",
        "predicted_stock_price = regressor.predict(X_test)\n",
        "predicted_stock_price = sc.inverse_transform(predicted_stock_price)"
      ],
      "metadata": {
        "colab": {
          "base_uri": "https://localhost:8080/"
        },
        "id": "mZbCiyaeCtGQ",
        "outputId": "835cc90a-ee35-4652-9f08-bfe10dc8ff64"
      },
      "execution_count": null,
      "outputs": [
        {
          "output_type": "stream",
          "name": "stdout",
          "text": [
            "1/1 [==============================] - 2s 2s/step\n"
          ]
        }
      ]
    },
    {
      "cell_type": "code",
      "source": [
        "#Visualizando os Resultados\n",
        "plt.plot(real_stock_price, color = 'red', label = 'Dados Reais de Ações do Google')\n",
        "plt.plot(predicted_stock_price, color = 'blue', label = 'Dados Previstos de Ações do Google')\n",
        "plt.title('Previsão de Preços de Ações')\n",
        "plt.xlabel('Tempo')\n",
        "plt.ylabel('Preços de Ações do Google')\n",
        "plt.legend()\n",
        "plt.show()"
      ],
      "metadata": {
        "id": "-fBsqmdvCu_R",
        "colab": {
          "base_uri": "https://localhost:8080/",
          "height": 472
        },
        "outputId": "f6477165-55dd-4e70-920a-41b23195a639"
      },
      "execution_count": null,
      "outputs": [
        {
          "output_type": "display_data",
          "data": {
            "text/plain": [
              "<Figure size 640x480 with 1 Axes>"
            ],
            "image/png": "[encoded data removed]"
          },
          "metadata": {}
        }
      ]
    },
    {
      "cell_type": "markdown",
      "source": [
        "A partir deste trabalho, foi possível observar que o sistema de previsão até que conseguiu obter uma tendência bem interessante, especialmente sendo bem útil para pessoas que lidam com o mercado de ações na Bolsa de Valores.\n",
        "\n",
        "Contudo, ainda assim o algoritmo não conseguiu acertar as tendências. Errou em parte.\n",
        "\n",
        "Pois, utilizar esse tipo de metodologia (para tentar prever dados de ações financeiras) é algo bastante complexo e demanda muito tempo e poder de processamento para ter mais eficiência e precisão.\n",
        "\n",
        "Fora que, devido ao fato de se lidar com informações de risco, não é aconselhavel de se basear os investimentos de capital em modelos de simulação como esse.\n",
        "\n",
        "Porém, pode-se utilizar esse tipo de metodologia pra estudar e aprender novas possibilidades de previsões e de tendência."
      ],
      "metadata": {
        "id": "miHtGpPmHa99"
      }
    }
  ]
}